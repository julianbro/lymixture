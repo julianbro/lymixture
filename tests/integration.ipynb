{
 "cells": [
  {
   "cell_type": "code",
   "execution_count": 1,
   "metadata": {},
   "outputs": [],
   "source": [
    "import numpy as np\n",
    "\n",
    "from lymph.models import Unilateral\n",
    "from lymixture import LymphMixture\n",
    "from lymixture.utils import map_to_simplex\n",
    "from fixtures import (\n",
    "    get_graph,\n",
    "    get_patient_data,\n",
    "    SIMPLE_SUBSITE,\n",
    ")"
   ]
  },
  {
   "cell_type": "code",
   "execution_count": 2,
   "metadata": {},
   "outputs": [
    {
     "data": {
      "text/plain": [
       "{'C01': <lymph.models.unilateral.Unilateral at 0x7f7b25618d60>,\n",
       " 'C02': <lymph.models.unilateral.Unilateral at 0x7f7b25619390>,\n",
       " 'C03': <lymph.models.unilateral.Unilateral at 0x7f7b256b8040>,\n",
       " 'C04': <lymph.models.unilateral.Unilateral at 0x7f7b258b6d10>,\n",
       " 'C05': <lymph.models.unilateral.Unilateral at 0x7f7b256e6fb0>,\n",
       " 'C06': <lymph.models.unilateral.Unilateral at 0x7f7b258b6740>,\n",
       " 'C09': <lymph.models.unilateral.Unilateral at 0x7f7b256b9090>,\n",
       " 'C10': <lymph.models.unilateral.Unilateral at 0x7f7b255c22f0>}"
      ]
     },
     "execution_count": 2,
     "metadata": {},
     "output_type": "execute_result"
    }
   ],
   "source": [
    "graph = get_graph(size=\"medium\")\n",
    "patient_data = get_patient_data()\n",
    "num_components = 3\n",
    "\n",
    "mixture = LymphMixture(\n",
    "    model_cls=Unilateral,\n",
    "    model_kwargs={\"graph_dict\": graph},\n",
    "    num_components=num_components,\n",
    ")\n",
    "mixture.update_subgroup_modalities({\"max_llh\": [1., 1.]})\n",
    "mixture.load_patient_data(patient_data, split_by=SIMPLE_SUBSITE)\n",
    "mixture.subgroups"
   ]
  },
  {
   "cell_type": "code",
   "execution_count": 3,
   "metadata": {},
   "outputs": [
    {
     "data": {
      "text/plain": [
       "{'max_llh': Clinical(specificity=1.0, sensitivity=1.0, is_trinary=False)}"
      ]
     },
     "execution_count": 3,
     "metadata": {},
     "output_type": "execute_result"
    }
   ],
   "source": [
    "mixture.update_subgroup_modalities({\"max_llh\": [1., 1.]})\n",
    "mixture.load_patient_data(patient_data, split_by=SIMPLE_SUBSITE)\n",
    "mixture.subgroups[\"C05\"].modalities"
   ]
  },
  {
   "cell_type": "code",
   "execution_count": 4,
   "metadata": {},
   "outputs": [],
   "source": [
    "resp_from_cube = np.random.uniform(size=(len(patient_data), num_components-1))\n",
    "resp = np.array([map_to_simplex(line) for line in resp_from_cube])\n",
    "\n",
    "mixture.assign_responsibilities(resp)"
   ]
  },
  {
   "cell_type": "code",
   "execution_count": 5,
   "metadata": {},
   "outputs": [
    {
     "data": {
      "text/plain": [
       "0       0.429476\n",
       "1       0.648337\n",
       "2       0.818446\n",
       "3       0.531305\n",
       "4       0.479799\n",
       "          ...   \n",
       "1237    0.344419\n",
       "1238    0.618100\n",
       "1239    0.021707\n",
       "1240    0.202453\n",
       "1241    0.250294\n",
       "Name: (_mixture, responsibility, 1), Length: 1242, dtype: float64"
      ]
     },
     "execution_count": 5,
     "metadata": {},
     "output_type": "execute_result"
    }
   ],
   "source": [
    "mixture.get_responsibilities(component=1)"
   ]
  },
  {
   "cell_type": "code",
   "execution_count": 6,
   "metadata": {},
   "outputs": [
    {
     "data": {
      "text/plain": [
       "(1242, 3)"
      ]
     },
     "execution_count": 6,
     "metadata": {},
     "output_type": "execute_result"
    }
   ],
   "source": [
    "mixture.get_responsibilities().shape"
   ]
  },
  {
   "cell_type": "code",
   "execution_count": 7,
   "metadata": {},
   "outputs": [
    {
     "data": {
      "text/plain": [
       "set()"
      ]
     },
     "execution_count": 7,
     "metadata": {},
     "output_type": "execute_result"
    }
   ],
   "source": [
    "mixture.t_stages"
   ]
  },
  {
   "cell_type": "code",
   "execution_count": 8,
   "metadata": {},
   "outputs": [],
   "source": [
    "tmp = np.random.uniform(size=(num_components, len(mixture.subgroups)))\n",
    "tmp /= tmp.sum(axis=0)\n",
    "mixture.assign_mixture_coefs(tmp)"
   ]
  },
  {
   "cell_type": "code",
   "execution_count": 9,
   "metadata": {},
   "outputs": [
    {
     "name": "stdout",
     "output_type": "stream",
     "text": [
      "{'max_llh': Clinical(specificity=1.0, sensitivity=1.0, is_trinary=False)}\n",
      "{'max_llh': Clinical(specificity=1.0, sensitivity=1.0, is_trinary=False)}\n",
      "{'max_llh': Clinical(specificity=1.0, sensitivity=1.0, is_trinary=False)}\n",
      "{'max_llh': Clinical(specificity=1.0, sensitivity=1.0, is_trinary=False)}\n",
      "{'max_llh': Clinical(specificity=1.0, sensitivity=1.0, is_trinary=False)}\n",
      "{'max_llh': Clinical(specificity=1.0, sensitivity=1.0, is_trinary=False)}\n",
      "{'max_llh': Clinical(specificity=1.0, sensitivity=1.0, is_trinary=False)}\n",
      "{'max_llh': Clinical(specificity=1.0, sensitivity=1.0, is_trinary=False)}\n"
     ]
    }
   ],
   "source": [
    "for subgroup in mixture.subgroups.values():\n",
    "    print(subgroup.modalities)"
   ]
  },
  {
   "cell_type": "code",
   "execution_count": 10,
   "metadata": {},
   "outputs": [],
   "source": [
    "mixture.update_component_diag_time_dists({\"early\": np.linspace(0, 10, 11)})\n",
    "mixture.update_component_diag_time_dists({\"late\": np.linspace(10, 0, 11)})"
   ]
  },
  {
   "cell_type": "code",
   "execution_count": 11,
   "metadata": {},
   "outputs": [
    {
     "name": "stdout",
     "output_type": "stream",
     "text": [
      "{'early': <lymph.diagnose_times.Distribution object at 0x7f7b257e9c90>, 'late': <lymph.diagnose_times.Distribution object at 0x7f7b258b7040>}\n",
      "{'early': <lymph.diagnose_times.Distribution object at 0x7f7b257e9a80>, 'late': <lymph.diagnose_times.Distribution object at 0x7f7b257e8850>}\n",
      "{'early': <lymph.diagnose_times.Distribution object at 0x7f7b257e9ba0>, 'late': <lymph.diagnose_times.Distribution object at 0x7f7b257e92a0>}\n"
     ]
    }
   ],
   "source": [
    "for comp in mixture.components:\n",
    "    print(comp.diag_time_dists)"
   ]
  },
  {
   "cell_type": "code",
   "execution_count": 14,
   "metadata": {},
   "outputs": [
    {
     "data": {
      "text/plain": [
       "(16, 20)"
      ]
     },
     "execution_count": 14,
     "metadata": {},
     "output_type": "execute_result"
    }
   ],
   "source": [
    "mixture.complete_data_likelihood()"
   ]
  }
 ],
 "metadata": {
  "kernelspec": {
   "display_name": ".venv",
   "language": "python",
   "name": "python3"
  },
  "language_info": {
   "codemirror_mode": {
    "name": "ipython",
    "version": 3
   },
   "file_extension": ".py",
   "mimetype": "text/x-python",
   "name": "python",
   "nbconvert_exporter": "python",
   "pygments_lexer": "ipython3",
   "version": "3.10.12"
  }
 },
 "nbformat": 4,
 "nbformat_minor": 2
}
