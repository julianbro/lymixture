{
 "cells": [
  {
   "cell_type": "code",
   "execution_count": null,
   "metadata": {},
   "outputs": [],
   "source": [
    "import numpy as np\n",
    "\n",
    "from lymph.models import Unilateral\n",
    "from lymixture import LymphMixtureModel\n",
    "from lymixture.utils import map_to_simplex\n",
    "from fixtures import (\n",
    "    get_graph,\n",
    "    get_patient_data,\n",
    "    SIMPLE_SUBSITE,\n",
    ")"
   ]
  },
  {
   "cell_type": "code",
   "execution_count": null,
   "metadata": {},
   "outputs": [],
   "source": [
    "graph = get_graph(size=\"medium\")\n",
    "patient_data = get_patient_data()\n",
    "num_components = 3\n",
    "\n",
    "mixture = LymphMixtureModel(\n",
    "    model_cls=Unilateral,\n",
    "    model_kwargs={\"graph_dict\": graph},\n",
    "    num_components=num_components,\n",
    ")\n",
    "mixture.load_patient_data(patient_data, split_by=SIMPLE_SUBSITE)"
   ]
  },
  {
   "cell_type": "code",
   "execution_count": null,
   "metadata": {},
   "outputs": [],
   "source": [
    "resp_from_cube = np.random.uniform(size=(len(patient_data), num_components-1))\n",
    "resp = np.array([map_to_simplex(line) for line in resp_from_cube])\n",
    "\n",
    "mixture.assign_responsibilities(resp)\n",
    "mixture.get_responsibilities(patient=0, component=1)"
   ]
  },
  {
   "cell_type": "code",
   "execution_count": null,
   "metadata": {},
   "outputs": [],
   "source": [
    "tmp = np.random.uniform(size=(num_components, len(mixture.subgroups)))\n",
    "tmp /= tmp.sum(axis=0)\n",
    "mixture.assign_mixture_coefs(tmp)"
   ]
  },
  {
   "cell_type": "code",
   "execution_count": null,
   "metadata": {},
   "outputs": [],
   "source": [
    "mixture.get_mixture_coefs()"
   ]
  }
 ],
 "metadata": {
  "kernelspec": {
   "display_name": ".venv",
   "language": "python",
   "name": "python3"
  },
  "language_info": {
   "codemirror_mode": {
    "name": "ipython",
    "version": 3
   },
   "file_extension": ".py",
   "mimetype": "text/x-python",
   "name": "python",
   "nbconvert_exporter": "python",
   "pygments_lexer": "ipython3",
   "version": "3.10.12"
  }
 },
 "nbformat": 4,
 "nbformat_minor": 2
}
