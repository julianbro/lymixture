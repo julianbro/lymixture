{
 "cells": [
  {
   "cell_type": "code",
   "execution_count": null,
   "metadata": {},
   "outputs": [],
   "source": [
    "import numpy as np\n",
    "\n",
    "from lymph.models import Unilateral\n",
    "from lymixture import LymphMixture\n",
    "from lymixture.utils import map_to_simplex\n",
    "from fixtures import (\n",
    "    get_graph,\n",
    "    get_patient_data,\n",
    "    SIMPLE_SUBSITE,\n",
    ")"
   ]
  },
  {
   "cell_type": "code",
   "execution_count": null,
   "metadata": {},
   "outputs": [],
   "source": [
    "graph = get_graph(size=\"medium\")\n",
    "patient_data = get_patient_data()\n",
    "num_components = 3\n",
    "\n",
    "mixture = LymphMixture(\n",
    "    model_cls=Unilateral,\n",
    "    model_kwargs={\"graph_dict\": graph},\n",
    "    num_components=num_components,\n",
    ")\n",
    "mixture.update_subgroup_modalities({\"max_llh\": [1., 1.]})\n",
    "mixture.load_patient_data(patient_data, split_by=SIMPLE_SUBSITE)\n",
    "mixture.subgroups"
   ]
  },
  {
   "cell_type": "code",
   "execution_count": null,
   "metadata": {},
   "outputs": [],
   "source": [
    "mixture.update_subgroup_modalities({\"max_llh\": [1., 1.]})\n",
    "mixture.load_patient_data(patient_data, split_by=SIMPLE_SUBSITE)\n",
    "mixture.subgroups[\"C05\"].modalities"
   ]
  },
  {
   "cell_type": "code",
   "execution_count": null,
   "metadata": {},
   "outputs": [],
   "source": [
    "resp_from_cube = np.random.uniform(size=(len(patient_data), num_components-1))\n",
    "resp = np.array([map_to_simplex(line) for line in resp_from_cube])\n",
    "\n",
    "mixture.assign_responsibilities(resp)"
   ]
  },
  {
   "cell_type": "code",
   "execution_count": null,
   "metadata": {},
   "outputs": [],
   "source": [
    "mixture.get_responsibilities(component=1)"
   ]
  },
  {
   "cell_type": "code",
   "execution_count": null,
   "metadata": {},
   "outputs": [],
   "source": [
    "mixture.get_responsibilities().shape"
   ]
  },
  {
   "cell_type": "code",
   "execution_count": null,
   "metadata": {},
   "outputs": [],
   "source": [
    "mixture.t_stages"
   ]
  },
  {
   "cell_type": "code",
   "execution_count": null,
   "metadata": {},
   "outputs": [],
   "source": [
    "tmp = np.random.uniform(size=(num_components, len(mixture.subgroups)))\n",
    "tmp /= tmp.sum(axis=0)\n",
    "mixture.set_mixture_coefs(tmp)"
   ]
  },
  {
   "cell_type": "code",
   "execution_count": null,
   "metadata": {},
   "outputs": [],
   "source": [
    "for subgroup in mixture.subgroups.values():\n",
    "    print(subgroup.modalities)"
   ]
  },
  {
   "cell_type": "code",
   "execution_count": null,
   "metadata": {},
   "outputs": [],
   "source": [
    "mixture.update_component_diag_time_dists({\"early\": np.linspace(0, 10, 11)})\n",
    "mixture.update_component_diag_time_dists({\"late\": np.linspace(10, 0, 11)})"
   ]
  },
  {
   "cell_type": "code",
   "execution_count": null,
   "metadata": {},
   "outputs": [],
   "source": [
    "for comp in mixture.components:\n",
    "    print(comp.diag_time_dists)"
   ]
  },
  {
   "cell_type": "code",
   "execution_count": null,
   "metadata": {},
   "outputs": [],
   "source": [
    "rng = np.random.default_rng(42)\n",
    "params_to_set = mixture.get_component_params(flatten=True)\n",
    "for param in params_to_set.keys():\n",
    "    mixture.assign_component_params(**{param: rng.uniform()})\n",
    "\n",
    "mixture.get_component_params()"
   ]
  },
  {
   "cell_type": "code",
   "execution_count": null,
   "metadata": {},
   "outputs": [],
   "source": [
    "mixture.set_mixture_coefs(rng.uniform(size=(num_components, len(mixture.subgroups))))"
   ]
  },
  {
   "cell_type": "code",
   "execution_count": null,
   "metadata": {},
   "outputs": [],
   "source": [
    "mixture.get_mixture_coefs().sum(axis=0)"
   ]
  },
  {
   "cell_type": "code",
   "execution_count": null,
   "metadata": {},
   "outputs": [],
   "source": [
    "mixture.normalize_mixture_coefs()\n",
    "mixture.get_mixture_coefs().sum(axis=0)"
   ]
  },
  {
   "cell_type": "code",
   "execution_count": null,
   "metadata": {},
   "outputs": [],
   "source": [
    "mixture.complete_data_likelihood()"
   ]
  }
 ],
 "metadata": {
  "kernelspec": {
   "display_name": ".venv",
   "language": "python",
   "name": "python3"
  },
  "language_info": {
   "codemirror_mode": {
    "name": "ipython",
    "version": 3
   },
   "file_extension": ".py",
   "mimetype": "text/x-python",
   "name": "python",
   "nbconvert_exporter": "python",
   "pygments_lexer": "ipython3",
   "version": "3.10.12"
  }
 },
 "nbformat": 4,
 "nbformat_minor": 2
}
